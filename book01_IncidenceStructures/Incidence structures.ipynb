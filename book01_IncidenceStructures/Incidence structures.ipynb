{
 "cells": [
  {
   "cell_type": "markdown",
   "id": "5f9afb14",
   "metadata": {},
   "source": [
    "# Chapter 1 - Incidence structures "
   ]
  },
  {
   "cell_type": "code",
   "execution_count": null,
   "id": "7db3e25f",
   "metadata": {},
   "outputs": [],
   "source": [
    "print(\"Hello World!\")"
   ]
  },
  {
   "cell_type": "code",
   "execution_count": null,
   "id": "9f545bb6",
   "metadata": {},
   "outputs": [],
   "source": [
    "def regular_polygon(n=10,lcolor=\"black\",ccolor=\"black\",fcolor=\"white\"):\n",
    "    \"\"\"Should draw regular n-gon and its diagonals.\"\"\"\n",
    "    coord = [(cos(2*i*pi/n),sin(2*i*pi/n)) for i in range(n)]\n",
    "    plt = Graphics()\n",
    "    for i in range(n):\n",
    "        for j in range(i):\n",
    "            plt += line((coord[i],coord[j]), color=lcolor)\n",
    "    for i in range(n):\n",
    "        plt += circle(coord[i],0.03,color= ccolor,fill=True)\n",
    "        plt += circle(coord[i],0.02,color= fcolor,fill=True)\n",
    "    plt.show(axes = False)\n",
    "    "
   ]
  },
  {
   "cell_type": "code",
   "execution_count": null,
   "id": "0a7242f0",
   "metadata": {},
   "outputs": [],
   "source": [
    "regular_polygon()"
   ]
  },
  {
   "cell_type": "code",
   "execution_count": null,
   "id": "a03409e3",
   "metadata": {},
   "outputs": [],
   "source": [
    "#os.mkdir(\"experiments\")\n",
    "plt.save(\"experiments/K10.pdf\")"
   ]
  },
  {
   "cell_type": "code",
   "execution_count": null,
   "id": "2496d768",
   "metadata": {},
   "outputs": [],
   "source": [
    "M = matroids.named_matroids.Vamos()\n",
    "vamos = IncidenceStructure(M.flat_cover())\n",
    "print(\"blocks = \",vamos.blocks())\n",
    "gr = vamos.automorphism_group()\n",
    "print(\"automorphism group order = \",gr.order())\n",
    "print(\"orbits = \",gr.orbits())\n"
   ]
  },
  {
   "cell_type": "code",
   "execution_count": null,
   "id": "d3604417",
   "metadata": {},
   "outputs": [],
   "source": [
    "M = matroids.named_matroids.Fano()\n",
    "fano = IncidenceStructure(M.flat_cover())\n",
    "fano.automorphism_group().order()\n",
    "fanod = fano.dual()\n",
    "fanod.is_isomorphic(fano)\n",
    "gr = fano.incidence_graph()\n",
    "gr1 = graphs.HeawoodGraph()\n",
    "print(gr.is_isomorphic(gr1))\n",
    "plt = gr1.plot()\n",
    "plt.show()\n",
    "plt.save(\"experiments/heawwood.pdf\")"
   ]
  },
  {
   "cell_type": "code",
   "execution_count": null,
   "id": "54b575bb",
   "metadata": {},
   "outputs": [],
   "source": [
    "complete_quadrangle = IncidenceStructure([['a', 'b', 'f'],['a', 'c', 'e'],['b', 'd', 'e'],['c', 'd', 'f']])\n",
    "complete_quadrangle.automorphism_group().order()\n"
   ]
  },
  {
   "cell_type": "code",
   "execution_count": null,
   "id": "6dea6e85",
   "metadata": {},
   "outputs": [],
   "source": [
    "another = IncidenceStructure([['a', 'b', 'e'],['a', 'c', 'f'],\n",
    "['b', 'c', 'd'],\n",
    "['e', 'g', 'f'],['a','g','d']])\n",
    "print(another.automorphism_group().order())\n",
    "print(another.incidence_graph().girth())\n",
    "\n"
   ]
  },
  {
   "cell_type": "code",
   "execution_count": null,
   "id": "ac779a2d",
   "metadata": {},
   "outputs": [],
   "source": [
    "def near_pencil(n):\n",
    "    blks = [[0,i] for i in range(1,n+1)]\n",
    "    blk = [i for i in range(1,n+1)]\n",
    "    blks.append(blk)\n",
    "    return IncidenceStructure(blks)\n",
    "\n",
    "def pencil(n):\n",
    "    blks = [[0] for i in range(1,n+1)]\n",
    "    return IncidenceStructure(blks)\n",
    "\n",
    "def line_cfg(n):\n",
    "    blks = [[i for i in range(1,n+1)]]\n",
    "    return IncidenceStructure(blks)\n"
   ]
  },
  {
   "cell_type": "code",
   "execution_count": null,
   "id": "f16ed972",
   "metadata": {},
   "outputs": [],
   "source": [
    "\n",
    "ls4 = line_cfg(4)\n",
    "ag = ls4.automorphism_group()\n",
    "print(\"order = \",ag.order())\n",
    "\n",
    "pncl4 = pencil(4)\n",
    "ag = pncl4.automorphism_group()\n",
    "print(\"order = \",ag.order())\n",
    "\n",
    "\n",
    "np4 = near_pencil(4)\n",
    "np4.automorphism_group().order()\n",
    "\n",
    "dp4 = pncl4.dual()\n",
    "print(ls4.is_isomorphic(dp4))\n",
    "print(ls4.blocks())\n",
    "print(dp4.blocks())\n",
    "print(pncl4.blocks())"
   ]
  },
  {
   "cell_type": "code",
   "execution_count": null,
   "id": "342dcbe8",
   "metadata": {},
   "outputs": [],
   "source": [
    "def draw_near_pencil(n,savefig=False):\n",
    "    \"\"\"Draw near_pencil and save it on file in savefig is True\"\"\"\n",
    "    plt = Graphics()\n",
    "    plt += line(((0,0),(n-1,0)),color=\"black\")\n",
    "    for i in range(n):\n",
    "        plt += line(((i,0),(0,1)))\n",
    "    plt.show(axes=False)\n",
    "    if savefig:\n",
    "        plt.save(\"experiments/near_pencil_\"+str(n)+\".pdf\",axes=False)\n",
    "        \n",
    "def draw_line(n,savefig=False):\n",
    "    \"\"\"Draw pencil and save it on file in savefig is True\"\"\"\n",
    "    plt = Graphics()\n",
    "    plt += line(((0,0),(n-1,0)))\n",
    "    for i in range(n):\n",
    "        plt += circle((i,0),0.04,fill=\"black\",color=\"black\")\n",
    "    plt.show(axes=False)\n",
    "    if savefig:\n",
    "        plt.save(\"experiments/line_\"+str(n)+\".pdf\",axes=False)\n",
    "        \n",
    "def draw_pencil(n,savefig=False):\n",
    "    \"\"\"Draw near_pencil and save it on file in savefig is True\"\"\"\n",
    "    plt = Graphics()\n",
    "    for i in range(n):\n",
    "        plt += line(((i,0),(0,1)))\n",
    "    plt += circle((0,1),0.04,fill=\"black\",color=\"black\")\n",
    "    plt.show(axes=False)\n",
    "    if savefig:\n",
    "        plt.save(\"experiments/pencil_\"+str(n)+\".pdf\",axes=False)"
   ]
  },
  {
   "cell_type": "code",
   "execution_count": null,
   "id": "a59eaf0e",
   "metadata": {},
   "outputs": [],
   "source": [
    "draw_pencil(4,savefig=True)"
   ]
  },
  {
   "cell_type": "code",
   "execution_count": null,
   "id": "5176b5c7",
   "metadata": {},
   "outputs": [],
   "source": [
    "draw_line(4,savefig=True)"
   ]
  },
  {
   "cell_type": "code",
   "execution_count": null,
   "id": "504f9ea7",
   "metadata": {},
   "outputs": [],
   "source": [
    "draw_near_pencil(4,savefig=True)"
   ]
  },
  {
   "cell_type": "code",
   "execution_count": null,
   "id": "35d40d07",
   "metadata": {},
   "outputs": [],
   "source": [
    "M = matroids.named_matroids.Vamos()\n",
    "blks = []\n",
    "for x in IncidenceStructure(M.flat_cover()).blocks():\n",
    "    x.sort()\n",
    "    blks.append(x)\n",
    "blks.sort()\n",
    "for x in blks:\n",
    "    print(x)"
   ]
  },
  {
   "cell_type": "code",
   "execution_count": null,
   "id": "b669aac3",
   "metadata": {},
   "outputs": [],
   "source": [
    "# Draw a graphical representation of Vamos matroid\n",
    "#os.mkdir(\"experiments\")\n",
    "eps = 0.5\n",
    "al = 0.4\n",
    "col = \"red\"\n",
    "a = (1,0)\n",
    "b = (2,eps)\n",
    "c = (1,1+eps)\n",
    "d = (0,1)\n",
    "e = (-1,0)\n",
    "f = (0,eps)\n",
    "g = (0,-1)\n",
    "h = (1,-1+eps)\n",
    "plt = Graphics()\n",
    "plt += polygon((a,b,c,d),color=col,edgecolor=\"black\",alpha=al)\n",
    "plt += polygon((c,d,e,f),color=col,edgecolor=\"black\",alpha=al)\n",
    "plt += polygon((a,b,f,e),color=col,edgecolor=\"black\",alpha=al)\n",
    "plt += polygon((a,b,h,g),color=col,edgecolor=\"black\",alpha=al)\n",
    "plt += polygon((e,f,h,g),color=col,edgecolor=\"black\",alpha=al)\n",
    "plt.show(axes=False,aspect_ratio=1)\n",
    "#plt.save(\"experiments/vamos.pdf\")"
   ]
  },
  {
   "cell_type": "code",
   "execution_count": null,
   "id": "c01eb19b",
   "metadata": {},
   "outputs": [],
   "source": [
    "M = matroids.named_matroids.Fano()\n",
    "blks = []\n",
    "for x in IncidenceStructure(M.flat_cover()).blocks():\n",
    "    x.sort()\n",
    "    blks.append(x)\n",
    "blks.sort()\n",
    "for x in blks:\n",
    "    print(x)"
   ]
  },
  {
   "cell_type": "code",
   "execution_count": null,
   "id": "70e1a33b",
   "metadata": {},
   "outputs": [],
   "source": [
    "# Draw graphical representation of Fano plane\n",
    "a = I\n",
    "b = a*exp(2*I*pi/3)\n",
    "c = a*exp(4*I*pi/3)\n",
    "f = (a+b)/2\n",
    "g = (b+c)/2\n",
    "e = (a+c)/2\n",
    "plt = Graphics()\n",
    "plt += line((a,b))\n",
    "plt += line((b,c))\n",
    "plt += line((a,c))\n",
    "plt += line((a,g))\n",
    "plt += line((b,e))\n",
    "plt += line((c,f))\n",
    "plt += circle((0,0),abs(f))\n",
    "plt.show(aspect_ratio=1,axes=False)\n",
    "plt.save(\"experiments/fano.pdf\",axes=False)"
   ]
  },
  {
   "cell_type": "code",
   "execution_count": null,
   "id": "e8c43875",
   "metadata": {},
   "outputs": [],
   "source": [
    "# complete quadrangle?\n",
    "cq = IncidenceStructure([['a', 'b', 'f'],['a', 'c', 'e'],\n",
    "['b', 'd', 'e'],\n",
    "['c', 'd', 'f']])"
   ]
  },
  {
   "cell_type": "code",
   "execution_count": null,
   "id": "e2f10319",
   "metadata": {},
   "outputs": [],
   "source": [
    "# Draw graphical representation of complete quadrangle\n",
    "a = I\n",
    "b = a*exp(2*I*pi/3)\n",
    "c = a*exp(4*I*pi/3)\n",
    "e = (a+c)/2\n",
    "f = (a+b)/2\n",
    "plt = Graphics()\n",
    "plt += line((a,b))\n",
    "plt += line((a,c))\n",
    "plt += line((b,e))\n",
    "plt += line((c,f))\n",
    "plt.show(aspect_ratio=1,axes=False)\n",
    "plt.save(\"experiments/complete_quadrangle.pdf\",axes=False)"
   ]
  },
  {
   "cell_type": "code",
   "execution_count": null,
   "id": "fddf855e",
   "metadata": {},
   "outputs": [],
   "source": [
    "# Basic matroid theory\n",
    "M = matroids.named_matroids.Vamos()\n",
    "print(sorted([sorted(F) for F in M.circuits()]))\n",
    "\n",
    "print(sorted([sorted(F) for F in M.flat_cover()]))\n",
    "\n",
    "print(sorted([sorted(F) for F in M.flats(3)]))"
   ]
  },
  {
   "cell_type": "code",
   "execution_count": null,
   "id": "2d3b393f",
   "metadata": {
    "scrolled": true
   },
   "outputs": [],
   "source": [
    "# Draw Vamos matroid in 3D (unfinished!).\n",
    "from sage.plot.plot3d.shapes import *\n",
    "plt3 = Graphics3d()\n",
    "plt3 += line3d(((-1,-1,0),(-1,1,0),(1,1,0),(1,-1,0),(-1,-1,0)),color=\"red\")\n",
    "plt3 += line3d(((-1,-1,0),(-1,1,0),(0,1,1),(0,-1,1),(-1,-1,0)),color=\"red\")\n",
    "plt3 += line3d(((1,1,0),(1,-1,0),(0,-1,1),(0,1,1),(1,1,0)),color=\"red\")\n",
    "plt3 += polygon3d(((-1,-1,0),(-1,1,0),(1,1,0),(1,-1,0),(-1,-1,0)),color=\"red\")\n",
    "plt3 += sphere((-1,-1,0),0.05,color=\"gold\")\n",
    "plt3 += sphere((-1,1,0),0.05,color=\"gold\")\n",
    "plt3 += sphere((1,1,0),0.05,color=\"gold\")\n",
    "plt3 += sphere((1,-1,0),0.05,color=\"gold\")\n",
    "plt3 += sphere((0,1,1),0.05,color=\"gold\")\n",
    "plt3 += sphere((0,-1,1),0.05,color=\"gold\")\n",
    "plt3 += sphere((0,1,-1),0.05,color=\"gold\")\n",
    "plt3 += sphere((0,-1,-1),0.05,color=\"gold\")\n",
    "plt3.show(frame=False)\n"
   ]
  },
  {
   "cell_type": "code",
   "execution_count": null,
   "id": "30a88e40",
   "metadata": {},
   "outputs": [],
   "source": [
    "# wiring diagrams in SageMath\n",
    "from sage.geometry.pseudolines import *\n",
    "permutations = [[3, 2, 1], [3, 2, 0], [3, 1, 0], [2, 1, 0]]\n",
    "p = PseudolineArrangement(permutations)\n",
    "p.show()\n"
   ]
  },
  {
   "cell_type": "code",
   "execution_count": null,
   "id": "dbd69e32",
   "metadata": {},
   "outputs": [],
   "source": [
    "def draw_quasi_line_arrangement(n,pp,pts=[],name=None):\n",
    "    \"\"\"Draw horizontal wires.\n",
    "    n --- number of wires,\n",
    "    pp --- pairs (a,b) of vertical indices, wires between them are\n",
    "    permuted.\n",
    "    pts --- positions of marked points\n",
    "    name --- name of the file to which the figure is drawn.\"\"\"\n",
    "    plt = Graphics()\n",
    "    m = len(pp)\n",
    "    for i in range(n):\n",
    "        plt += line(((-1,i),(0,i)))\n",
    "        plt += line(((m,i),(m+1,i)))\n",
    "    for k in range(m):\n",
    "        (a,b) = pp[k]\n",
    "        assert a < b\n",
    "        for i in range(n):\n",
    "            if i < a or i > b:\n",
    "                plt += line(((k,i),(k+1,i)))\n",
    "            else:\n",
    "                plt += line(((k,i),(k+1,b-i+a)))\n",
    "            if k in pts:\n",
    "                plt +=circle((k+0.5,(a+b)/2),0.05,fill=True,color=\"red\")\n",
    "    plt.show(axes=False)\n",
    "    if name != None:\n",
    "        plt.save(\"experiments/\"+name+\".pdf\",axes=False)\n",
    "    return plt"
   ]
  },
  {
   "cell_type": "code",
   "execution_count": null,
   "id": "5926b27c",
   "metadata": {},
   "outputs": [],
   "source": [
    "plt = draw_quasi_line_arrangement(4,[(2,3),(1,2),(0,1),(1,2),(2,3),(1,2)],[0,1,2,3,4,5],\"quadrilateral\")"
   ]
  },
  {
   "cell_type": "code",
   "execution_count": null,
   "id": "2904ef95",
   "metadata": {},
   "outputs": [],
   "source": [
    "plt = draw_quasi_line_arrangement(6,[(2,3),(3,5),(1,3),(3,4),(0,1),(1,3),(3,5)],[1,2,5,6],\"quadrangle\")"
   ]
  },
  {
   "cell_type": "code",
   "execution_count": null,
   "id": "faa59f65",
   "metadata": {},
   "outputs": [],
   "source": []
  }
 ],
 "metadata": {
  "kernelspec": {
   "display_name": "SageMath 9.5",
   "language": "sage",
   "name": "sagemath-9.5"
  },
  "language_info": {
   "codemirror_mode": {
    "name": "ipython",
    "version": 3
   },
   "file_extension": ".py",
   "mimetype": "text/x-python",
   "name": "python",
   "nbconvert_exporter": "python",
   "pygments_lexer": "ipython3",
   "version": "3.9.9"
  }
 },
 "nbformat": 4,
 "nbformat_minor": 5
}
